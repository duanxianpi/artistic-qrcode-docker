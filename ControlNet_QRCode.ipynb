{
  "nbformat": 4,
  "nbformat_minor": 0,
  "metadata": {
    "colab": {
      "provenance": [],
      "gpuType": "T4"
    },
    "kernelspec": {
      "name": "python3",
      "display_name": "Python 3"
    },
    "language_info": {
      "name": "python"
    },
    "accelerator": "GPU"
  },
  "cells": [
    {
      "cell_type": "code",
      "execution_count": null,
      "metadata": {
        "id": "dV3aT5p7Dpuj"
      },
      "outputs": [],
      "source": [
        "!pip install diffusers omegaconf transformers accelerate safetensors invisible_watermark xformers compel\n",
        "%env PYTORCH_CUDA_ALLOC_CONF=max_split_size_mb:32\n",
        "\n",
        "from IPython.display import clear_output\n",
        "clear_output()"
      ]
    },
    {
      "cell_type": "code",
      "source": [
        "!curl -L \"https://huggingface.co/monster-labs/control_v1p_sd15_qrcode_monster/resolve/main/v2/diffusion_pytorch_model.safetensors\" --output diffusion_pytorch_model.safetensors\n",
        "!curl -L \"https://huggingface.co/monster-labs/control_v1p_sd15_qrcode_monster/resolve/main/v2/config.json\" --output config.json\n",
        "!mkdir monsterv2\n",
        "!mv diffusion_pytorch_model.safetensors config.json monsterv2\n",
        "\n",
        "!curl -L \"https://civitai.com/api/download/models/9208?type=Model&format=SafeTensor&size=full&fp=fp16\" --output easynegative.safetensors\n",
        "!curl -L \"https://civitai.com/api/download/models/5637?type=Model&format=PickleTensor&size=full&fp=fp16\" --output ng_deepnegative_v1_75t.pt"
      ],
      "metadata": {
        "id": "0tQI2yahDvzs"
      },
      "execution_count": null,
      "outputs": []
    },
    {
      "cell_type": "code",
      "source": [
        "from diffusers import ControlNetModel, StableDiffusionControlNetPipeline, DPMSolverMultistepScheduler\n",
        "from omegaconf import OmegaConf\n",
        "from diffusers.utils import load_image\n",
        "\n",
        "\n",
        "controlnet = ControlNetModel.from_pretrained(\"Nacholmo/controlnet-qr-pattern-v2\")\n",
        "# controlnet = ControlNetModel.from_pretrained(\"monster-labs/control_v1p_sd15_qrcode_monster\")\n",
        "# controlnet = ControlNetModel.from_pretrained(\"/content/monsterv2\")\n",
        "\n",
        "# Realistic\n",
        "# pipeline = StableDiffusionControlNetPipeline.from_single_file(\n",
        "# \t\"https://huggingface.co/Lykon/DreamShaper/blob/main/DreamShaper_8_pruned.safetensors\",\n",
        "# \tcontrolnet=controlnet,\n",
        "# \tuse_safetensors=True\n",
        "# )\n",
        "\n",
        "# Anime Style\n",
        "pipeline = StableDiffusionControlNetPipeline.from_single_file(\n",
        "\t\"https://huggingface.co/Meina/MeinaMix/blob/main/Meina V10 - baked VAE.safetensors\",\n",
        "\tcontrolnet=controlnet,\n",
        "\tuse_safetensors=True\n",
        ")\n",
        "\n",
        "pipeline.to('cuda')\n",
        "\n",
        "from IPython.display import clear_output\n",
        "clear_output()"
      ],
      "metadata": {
        "id": "gKjdraWXE7Nx"
      },
      "execution_count": null,
      "outputs": []
    },
    {
      "cell_type": "code",
      "source": [
        "controlnet.save_pretrained(\"/content/test\")"
      ],
      "metadata": {
        "id": "yeH5tJ61zVXg"
      },
      "execution_count": null,
      "outputs": []
    },
    {
      "cell_type": "code",
      "source": [
        "import hashlib\n",
        "\n",
        "with open(\"/content/test/diffusion_pytorch_model.safetensors\",\"rb\") as f:\n",
        "    bytes = f.read() # read entire file as bytes\n",
        "    readable_hash = hashlib.sha256(bytes).hexdigest();\n",
        "    print(readable_hash)"
      ],
      "metadata": {
        "colab": {
          "base_uri": "https://localhost:8080/"
        },
        "id": "bN2FMcTV0OP7",
        "outputId": "5fb43ab4-a91d-47db-c877-0f4a84312551"
      },
      "execution_count": null,
      "outputs": [
        {
          "output_type": "stream",
          "name": "stdout",
          "text": [
            "c7debd28037965262e1696d3a96fc9309323872da00db84b787b45058a3b1dc7\n"
          ]
        }
      ]
    },
    {
      "cell_type": "code",
      "source": [
        "pipeline.load_textual_inversion(\"/content/easynegative.safetensors\")\n",
        "pipeline.load_textual_inversion(\"/content/ng_deepnegative_v1_75t.pt\")\n",
        "pipeline.load_lora_weights(\"OedoSoldier/detail-tweaker-lora\")"
      ],
      "metadata": {
        "id": "_jysKhpxF2uD"
      },
      "execution_count": null,
      "outputs": []
    },
    {
      "cell_type": "code",
      "source": [
        "from compel import Compel, DiffusersTextualInversionManager\n",
        "import torch\n",
        "\n",
        "pipeline.scheduler = DPMSolverMultistepScheduler.from_config(pipeline.scheduler.config, use_karras_sigmas=True)\n",
        "\n",
        "\n",
        "\n",
        "qr_code_image = load_image(\n",
        "    \"/content/qr_code.png\"\n",
        ")\n",
        "\n",
        "prompt = f\"\"\"\n",
        "(Masterpiece)++, (Illustration)++, (Exquisite Beauty)++\n",
        "(masterpiece), Beautiful sky from top of the clouds,\n",
        "fluffy clouds, clouds flowting near the mountain, nijo,\n",
        "Inspire from your name anime, High green mountains,\n",
        "High detailed, sherp image\"\"\"\n",
        "\n",
        "\n",
        "nprompt = \"\"\"\n",
        "\n",
        "\"\"\"\n",
        "\n",
        "fix_nprompt = \"\"\",<easynegative>+, <ng_deepnegative_v1_75t>+,(worst quality, low quality)++, monochrome, zombie,overexposure, watermark,text,bad anatomy,\n",
        "bad hand,extra hands,extra fingers,too many fingers,fused fingers,bad arm,distorted arm,\n",
        "extra arms,fused arms,extra legs,missing leg,disembodied leg,extra nipples, detached arm,\n",
        "liquid hand,inverted hand,disembodied limb, small breasts, loli, oversized head,extra body,\n",
        "completely nude, extra navel,easynegative,(hair between eyes)+,sketch, duplicate, ugly,\n",
        "huge eyes, text, logo, worst face, (bad and mutated hands)++, (blurry)++, horror, geometry,\n",
        "bad_prompt, (bad hands)+, (missing fingers)+, multiple limbs, bad anatomy, (interlocked fingers:)++,\n",
        "Ugly Fingers, (extra digit and hands and fingers and legs and arms:)+,\n",
        "(deformed fingers)+, (long fingers)+,(bad-artist-anime)+, bad-artist, bad hand,\n",
        "extra legs ,(ng_deepnegative_v1_75t), tree+++\"\"\"\n",
        "\n",
        "textual_inversion_manager = DiffusersTextualInversionManager(pipeline)\n",
        "\n",
        "compel = Compel(\n",
        "    tokenizer=pipeline.tokenizer, text_encoder=pipeline.text_encoder,\n",
        "    textual_inversion_manager=textual_inversion_manager)\n",
        "\n",
        "conditioning = compel.build_conditioning_tensor(prompt)\n",
        "nconditioning = compel.build_conditioning_tensor(nprompt+fix_nprompt)\n",
        "\n",
        "image = pipeline(prompt_embeds=conditioning, negative_prompt_embeds =nconditioning,\n",
        "                 image=qr_code_image,\n",
        "                 num_inference_steps=30,\n",
        "                 controlnet_conditioning_scale=0.8,\n",
        "                 control_guidance_start=0,control_guidance_end=0.8,\n",
        "                 cross_attention_kwargs={\"scale\": 1},\n",
        "                 width=1024,height=1024).images[0]\n",
        "\n",
        "\n",
        "torch.cuda.empty_cache()\n",
        "from IPython.display import Image, display\n",
        "display(image)"
      ],
      "metadata": {
        "id": "X3cNYo2XFLgr"
      },
      "execution_count": null,
      "outputs": []
    }
  ]
}